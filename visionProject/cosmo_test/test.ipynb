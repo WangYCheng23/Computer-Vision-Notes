{
 "cells": [
  {
   "cell_type": "code",
   "execution_count": 1,
   "metadata": {},
   "outputs": [],
   "source": [
    "import cv2\n",
    "import numpy as np"
   ]
  },
  {
   "attachments": {},
   "cell_type": "markdown",
   "metadata": {},
   "source": [
    "Method1：Canny Detection + Hough Transformation"
   ]
  },
  {
   "cell_type": "code",
   "execution_count": 2,
   "metadata": {},
   "outputs": [],
   "source": [
    "def method1():\n",
    "    videoname = './belt_video.mp4'\n",
    "    capture = cv2.VideoCapture(videoname)\n",
    "    if capture.isOpened():\n",
    "        while True:\n",
    "            ret, frame = capture.read()\n",
    "            # cv2.imshow('frame', frame)\n",
    "            \n",
    "            # 高斯去噪 \n",
    "            gaussian_frame = cv2.GaussianBlur(frame , (5,5), 10)\n",
    "            gray_frame = cv2.cvtColor(gaussian_frame, cv2.COLOR_BGR2GRAY)\n",
    "            \n",
    "            # 边缘检测\n",
    "            edge_frame = cv2.Canny(gray_frame,15,155)\n",
    "            cv2.imshow('edge_frame', edge_frame)\n",
    "            if cv2.waitKey(25) & 0xFF == ord('q'):\n",
    "                break\n",
    "            if not ret: break\n",
    "    else:\n",
    "        print(\"Open Video Failed\")"
   ]
  },
  {
   "cell_type": "code",
   "execution_count": null,
   "metadata": {},
   "outputs": [],
   "source": []
  }
 ],
 "metadata": {
  "kernelspec": {
   "display_name": "visionProject",
   "language": "python",
   "name": "python3"
  },
  "language_info": {
   "codemirror_mode": {
    "name": "ipython",
    "version": 3
   },
   "file_extension": ".py",
   "mimetype": "text/x-python",
   "name": "python",
   "nbconvert_exporter": "python",
   "pygments_lexer": "ipython3",
   "version": "3.10.11"
  },
  "orig_nbformat": 4
 },
 "nbformat": 4,
 "nbformat_minor": 2
}
